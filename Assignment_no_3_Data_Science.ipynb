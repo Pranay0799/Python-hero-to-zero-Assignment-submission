{
  "nbformat": 4,
  "nbformat_minor": 0,
  "metadata": {
    "colab": {
      "name": "Assignment_no_3_Data Science.ipynb",
      "provenance": [],
      "authorship_tag": "ABX9TyODe75E06yp+J2Otf4tWxpz",
      "include_colab_link": true
    },
    "kernelspec": {
      "name": "python3",
      "display_name": "Python 3"
    },
    "language_info": {
      "name": "python"
    }
  },
  "cells": [
    {
      "cell_type": "markdown",
      "metadata": {
        "id": "view-in-github",
        "colab_type": "text"
      },
      "source": [
        "<a href=\"https://colab.research.google.com/github/Pranay0799/Python-hero-to-zero-Assignment-submission/blob/main/Assignment_no_3_Data_Science.ipynb\" target=\"_parent\"><img src=\"https://colab.research.google.com/assets/colab-badge.svg\" alt=\"Open In Colab\"/></a>"
      ]
    },
    {
      "cell_type": "code",
      "metadata": {
        "id": "BRgXvZz7rc0O"
      },
      "source": [
        "## First step is to import pandas\n",
        "\n",
        "import pandas as pd\n",
        "import numpy as np"
      ],
      "execution_count": 1,
      "outputs": []
    },
    {
      "cell_type": "code",
      "metadata": {
        "id": "KhzXBoLFsVxB"
      },
      "source": [
        ""
      ],
      "execution_count": null,
      "outputs": []
    },
    {
      "cell_type": "code",
      "metadata": {
        "id": "Xz7oK609r7mG"
      },
      "source": [
        "## Day3 \n",
        "##Assignment - Explore this dataset using pandas\n",
        "\n",
        "df=pd.read_csv('https://download.bls.gov/pub/time.series/cu/cu.item',\n",
        "                 sep='\\t')"
      ],
      "execution_count": 2,
      "outputs": []
    },
    {
      "cell_type": "code",
      "metadata": {
        "colab": {
          "base_uri": "https://localhost:8080/",
          "height": 203
        },
        "id": "C3E-6oY9r-LR",
        "outputId": "e9bd16c3-9f9d-4b4f-952a-d197e2394c44"
      },
      "source": [
        "df.head()"
      ],
      "execution_count": 3,
      "outputs": [
        {
          "output_type": "execute_result",
          "data": {
            "text/html": [
              "<div>\n",
              "<style scoped>\n",
              "    .dataframe tbody tr th:only-of-type {\n",
              "        vertical-align: middle;\n",
              "    }\n",
              "\n",
              "    .dataframe tbody tr th {\n",
              "        vertical-align: top;\n",
              "    }\n",
              "\n",
              "    .dataframe thead th {\n",
              "        text-align: right;\n",
              "    }\n",
              "</style>\n",
              "<table border=\"1\" class=\"dataframe\">\n",
              "  <thead>\n",
              "    <tr style=\"text-align: right;\">\n",
              "      <th></th>\n",
              "      <th>item_code</th>\n",
              "      <th>item_name</th>\n",
              "      <th>display_level</th>\n",
              "      <th>selectable</th>\n",
              "      <th>sort_sequence</th>\n",
              "    </tr>\n",
              "  </thead>\n",
              "  <tbody>\n",
              "    <tr>\n",
              "      <th>0</th>\n",
              "      <td>AA0</td>\n",
              "      <td>All items - old base</td>\n",
              "      <td>0</td>\n",
              "      <td>T</td>\n",
              "      <td>2</td>\n",
              "    </tr>\n",
              "    <tr>\n",
              "      <th>1</th>\n",
              "      <td>AA0R</td>\n",
              "      <td>Purchasing power of the consumer dollar - old ...</td>\n",
              "      <td>0</td>\n",
              "      <td>T</td>\n",
              "      <td>399</td>\n",
              "    </tr>\n",
              "    <tr>\n",
              "      <th>2</th>\n",
              "      <td>SA0</td>\n",
              "      <td>All items</td>\n",
              "      <td>0</td>\n",
              "      <td>T</td>\n",
              "      <td>1</td>\n",
              "    </tr>\n",
              "    <tr>\n",
              "      <th>3</th>\n",
              "      <td>SA0E</td>\n",
              "      <td>Energy</td>\n",
              "      <td>1</td>\n",
              "      <td>T</td>\n",
              "      <td>374</td>\n",
              "    </tr>\n",
              "    <tr>\n",
              "      <th>4</th>\n",
              "      <td>SA0L1</td>\n",
              "      <td>All items less food</td>\n",
              "      <td>1</td>\n",
              "      <td>T</td>\n",
              "      <td>358</td>\n",
              "    </tr>\n",
              "  </tbody>\n",
              "</table>\n",
              "</div>"
            ],
            "text/plain": [
              "  item_code  ... sort_sequence\n",
              "0       AA0  ...             2\n",
              "1      AA0R  ...           399\n",
              "2       SA0  ...             1\n",
              "3      SA0E  ...           374\n",
              "4     SA0L1  ...           358\n",
              "\n",
              "[5 rows x 5 columns]"
            ]
          },
          "metadata": {},
          "execution_count": 3
        }
      ]
    },
    {
      "cell_type": "code",
      "metadata": {
        "colab": {
          "base_uri": "https://localhost:8080/"
        },
        "id": "-fA65Lnqsa8U",
        "outputId": "f3a98ad5-626d-4c00-c087-8fb1c28f0480"
      },
      "source": [
        "type(df)"
      ],
      "execution_count": 4,
      "outputs": [
        {
          "output_type": "execute_result",
          "data": {
            "text/plain": [
              "pandas.core.frame.DataFrame"
            ]
          },
          "metadata": {},
          "execution_count": 4
        }
      ]
    },
    {
      "cell_type": "code",
      "metadata": {
        "colab": {
          "base_uri": "https://localhost:8080/"
        },
        "id": "JqgDFkt5sbSP",
        "outputId": "7a826bba-16f4-4f34-d254-17da97cabb42"
      },
      "source": [
        "len(df)"
      ],
      "execution_count": 5,
      "outputs": [
        {
          "output_type": "execute_result",
          "data": {
            "text/plain": [
              "399"
            ]
          },
          "metadata": {},
          "execution_count": 5
        }
      ]
    },
    {
      "cell_type": "code",
      "metadata": {
        "colab": {
          "base_uri": "https://localhost:8080/"
        },
        "id": "3jeP6pONsbcO",
        "outputId": "f2989f97-6d97-4777-bde2-8eb4ce77195d"
      },
      "source": [
        "df.shape"
      ],
      "execution_count": 6,
      "outputs": [
        {
          "output_type": "execute_result",
          "data": {
            "text/plain": [
              "(399, 5)"
            ]
          },
          "metadata": {},
          "execution_count": 6
        }
      ]
    },
    {
      "cell_type": "code",
      "metadata": {
        "colab": {
          "base_uri": "https://localhost:8080/",
          "height": 203
        },
        "id": "R655G7cts5qX",
        "outputId": "8c33c0e7-3a44-4407-9f2e-9baa695f25e8"
      },
      "source": [
        "df.head()"
      ],
      "execution_count": 7,
      "outputs": [
        {
          "output_type": "execute_result",
          "data": {
            "text/html": [
              "<div>\n",
              "<style scoped>\n",
              "    .dataframe tbody tr th:only-of-type {\n",
              "        vertical-align: middle;\n",
              "    }\n",
              "\n",
              "    .dataframe tbody tr th {\n",
              "        vertical-align: top;\n",
              "    }\n",
              "\n",
              "    .dataframe thead th {\n",
              "        text-align: right;\n",
              "    }\n",
              "</style>\n",
              "<table border=\"1\" class=\"dataframe\">\n",
              "  <thead>\n",
              "    <tr style=\"text-align: right;\">\n",
              "      <th></th>\n",
              "      <th>item_code</th>\n",
              "      <th>item_name</th>\n",
              "      <th>display_level</th>\n",
              "      <th>selectable</th>\n",
              "      <th>sort_sequence</th>\n",
              "    </tr>\n",
              "  </thead>\n",
              "  <tbody>\n",
              "    <tr>\n",
              "      <th>0</th>\n",
              "      <td>AA0</td>\n",
              "      <td>All items - old base</td>\n",
              "      <td>0</td>\n",
              "      <td>T</td>\n",
              "      <td>2</td>\n",
              "    </tr>\n",
              "    <tr>\n",
              "      <th>1</th>\n",
              "      <td>AA0R</td>\n",
              "      <td>Purchasing power of the consumer dollar - old ...</td>\n",
              "      <td>0</td>\n",
              "      <td>T</td>\n",
              "      <td>399</td>\n",
              "    </tr>\n",
              "    <tr>\n",
              "      <th>2</th>\n",
              "      <td>SA0</td>\n",
              "      <td>All items</td>\n",
              "      <td>0</td>\n",
              "      <td>T</td>\n",
              "      <td>1</td>\n",
              "    </tr>\n",
              "    <tr>\n",
              "      <th>3</th>\n",
              "      <td>SA0E</td>\n",
              "      <td>Energy</td>\n",
              "      <td>1</td>\n",
              "      <td>T</td>\n",
              "      <td>374</td>\n",
              "    </tr>\n",
              "    <tr>\n",
              "      <th>4</th>\n",
              "      <td>SA0L1</td>\n",
              "      <td>All items less food</td>\n",
              "      <td>1</td>\n",
              "      <td>T</td>\n",
              "      <td>358</td>\n",
              "    </tr>\n",
              "  </tbody>\n",
              "</table>\n",
              "</div>"
            ],
            "text/plain": [
              "  item_code  ... sort_sequence\n",
              "0       AA0  ...             2\n",
              "1      AA0R  ...           399\n",
              "2       SA0  ...             1\n",
              "3      SA0E  ...           374\n",
              "4     SA0L1  ...           358\n",
              "\n",
              "[5 rows x 5 columns]"
            ]
          },
          "metadata": {},
          "execution_count": 7
        }
      ]
    },
    {
      "cell_type": "code",
      "metadata": {
        "colab": {
          "base_uri": "https://localhost:8080/",
          "height": 203
        },
        "id": "mUybkz-ss5tr",
        "outputId": "e6738996-696b-4858-c32f-0489686aaa0e"
      },
      "source": [
        "df.tail()"
      ],
      "execution_count": 8,
      "outputs": [
        {
          "output_type": "execute_result",
          "data": {
            "text/html": [
              "<div>\n",
              "<style scoped>\n",
              "    .dataframe tbody tr th:only-of-type {\n",
              "        vertical-align: middle;\n",
              "    }\n",
              "\n",
              "    .dataframe tbody tr th {\n",
              "        vertical-align: top;\n",
              "    }\n",
              "\n",
              "    .dataframe thead th {\n",
              "        text-align: right;\n",
              "    }\n",
              "</style>\n",
              "<table border=\"1\" class=\"dataframe\">\n",
              "  <thead>\n",
              "    <tr style=\"text-align: right;\">\n",
              "      <th></th>\n",
              "      <th>item_code</th>\n",
              "      <th>item_name</th>\n",
              "      <th>display_level</th>\n",
              "      <th>selectable</th>\n",
              "      <th>sort_sequence</th>\n",
              "    </tr>\n",
              "  </thead>\n",
              "  <tbody>\n",
              "    <tr>\n",
              "      <th>394</th>\n",
              "      <td>SS68023</td>\n",
              "      <td>Tax return preparation and other accounting fees</td>\n",
              "      <td>4</td>\n",
              "      <td>T</td>\n",
              "      <td>352</td>\n",
              "    </tr>\n",
              "    <tr>\n",
              "      <th>395</th>\n",
              "      <td>SSEA011</td>\n",
              "      <td>College textbooks</td>\n",
              "      <td>3</td>\n",
              "      <td>T</td>\n",
              "      <td>314</td>\n",
              "    </tr>\n",
              "    <tr>\n",
              "      <th>396</th>\n",
              "      <td>SSFV031A</td>\n",
              "      <td>Food at elementary and secondary schools</td>\n",
              "      <td>3</td>\n",
              "      <td>T</td>\n",
              "      <td>122</td>\n",
              "    </tr>\n",
              "    <tr>\n",
              "      <th>397</th>\n",
              "      <td>SSGE013</td>\n",
              "      <td>Infants' equipment</td>\n",
              "      <td>3</td>\n",
              "      <td>T</td>\n",
              "      <td>355</td>\n",
              "    </tr>\n",
              "    <tr>\n",
              "      <th>398</th>\n",
              "      <td>SSHJ031</td>\n",
              "      <td>Infants' furniture</td>\n",
              "      <td>3</td>\n",
              "      <td>T</td>\n",
              "      <td>165</td>\n",
              "    </tr>\n",
              "  </tbody>\n",
              "</table>\n",
              "</div>"
            ],
            "text/plain": [
              "    item_code  ... sort_sequence\n",
              "394   SS68023  ...           352\n",
              "395   SSEA011  ...           314\n",
              "396  SSFV031A  ...           122\n",
              "397   SSGE013  ...           355\n",
              "398   SSHJ031  ...           165\n",
              "\n",
              "[5 rows x 5 columns]"
            ]
          },
          "metadata": {},
          "execution_count": 8
        }
      ]
    },
    {
      "cell_type": "code",
      "metadata": {
        "colab": {
          "base_uri": "https://localhost:8080/"
        },
        "id": "5RR_dEJqtJPB",
        "outputId": "b8d60f01-a423-4f8c-8c98-4ecb676f8a19"
      },
      "source": [
        "df.info()"
      ],
      "execution_count": 9,
      "outputs": [
        {
          "output_type": "stream",
          "name": "stdout",
          "text": [
            "<class 'pandas.core.frame.DataFrame'>\n",
            "RangeIndex: 399 entries, 0 to 398\n",
            "Data columns (total 5 columns):\n",
            " #   Column         Non-Null Count  Dtype \n",
            "---  ------         --------------  ----- \n",
            " 0   item_code      399 non-null    object\n",
            " 1   item_name      399 non-null    object\n",
            " 2   display_level  399 non-null    int64 \n",
            " 3   selectable     399 non-null    object\n",
            " 4   sort_sequence  399 non-null    int64 \n",
            "dtypes: int64(2), object(3)\n",
            "memory usage: 15.7+ KB\n"
          ]
        }
      ]
    },
    {
      "cell_type": "code",
      "metadata": {
        "colab": {
          "base_uri": "https://localhost:8080/",
          "height": 295
        },
        "id": "40sRVoeMtJR_",
        "outputId": "93b117ea-ab3e-4722-a84a-90d0cfa850bb"
      },
      "source": [
        "df.describe()"
      ],
      "execution_count": 10,
      "outputs": [
        {
          "output_type": "execute_result",
          "data": {
            "text/html": [
              "<div>\n",
              "<style scoped>\n",
              "    .dataframe tbody tr th:only-of-type {\n",
              "        vertical-align: middle;\n",
              "    }\n",
              "\n",
              "    .dataframe tbody tr th {\n",
              "        vertical-align: top;\n",
              "    }\n",
              "\n",
              "    .dataframe thead th {\n",
              "        text-align: right;\n",
              "    }\n",
              "</style>\n",
              "<table border=\"1\" class=\"dataframe\">\n",
              "  <thead>\n",
              "    <tr style=\"text-align: right;\">\n",
              "      <th></th>\n",
              "      <th>display_level</th>\n",
              "      <th>sort_sequence</th>\n",
              "    </tr>\n",
              "  </thead>\n",
              "  <tbody>\n",
              "    <tr>\n",
              "      <th>count</th>\n",
              "      <td>399.000000</td>\n",
              "      <td>399.000000</td>\n",
              "    </tr>\n",
              "    <tr>\n",
              "      <th>mean</th>\n",
              "      <td>3.192982</td>\n",
              "      <td>200.000000</td>\n",
              "    </tr>\n",
              "    <tr>\n",
              "      <th>std</th>\n",
              "      <td>1.817102</td>\n",
              "      <td>115.325626</td>\n",
              "    </tr>\n",
              "    <tr>\n",
              "      <th>min</th>\n",
              "      <td>0.000000</td>\n",
              "      <td>1.000000</td>\n",
              "    </tr>\n",
              "    <tr>\n",
              "      <th>25%</th>\n",
              "      <td>2.000000</td>\n",
              "      <td>100.500000</td>\n",
              "    </tr>\n",
              "    <tr>\n",
              "      <th>50%</th>\n",
              "      <td>3.000000</td>\n",
              "      <td>200.000000</td>\n",
              "    </tr>\n",
              "    <tr>\n",
              "      <th>75%</th>\n",
              "      <td>4.000000</td>\n",
              "      <td>299.500000</td>\n",
              "    </tr>\n",
              "    <tr>\n",
              "      <th>max</th>\n",
              "      <td>8.000000</td>\n",
              "      <td>399.000000</td>\n",
              "    </tr>\n",
              "  </tbody>\n",
              "</table>\n",
              "</div>"
            ],
            "text/plain": [
              "       display_level  sort_sequence\n",
              "count     399.000000     399.000000\n",
              "mean        3.192982     200.000000\n",
              "std         1.817102     115.325626\n",
              "min         0.000000       1.000000\n",
              "25%         2.000000     100.500000\n",
              "50%         3.000000     200.000000\n",
              "75%         4.000000     299.500000\n",
              "max         8.000000     399.000000"
            ]
          },
          "metadata": {},
          "execution_count": 10
        }
      ]
    },
    {
      "cell_type": "code",
      "metadata": {
        "colab": {
          "base_uri": "https://localhost:8080/"
        },
        "id": "h7A0qL-NtJWx",
        "outputId": "d60fc4a1-77be-4e91-ddaf-de3d56c8aa2b"
      },
      "source": [
        "#Get the unique category counts\n",
        "df['item_code'].value_counts()"
      ],
      "execution_count": 13,
      "outputs": [
        {
          "output_type": "execute_result",
          "data": {
            "text/plain": [
              "SETB02     1\n",
              "SEAG01     1\n",
              "SEFG01     1\n",
              "SEME       1\n",
              "SEFN01     1\n",
              "          ..\n",
              "SEEB       1\n",
              "SS62051    1\n",
              "SS62054    1\n",
              "SEFV05     1\n",
              "SS0501A    1\n",
              "Name: item_code, Length: 399, dtype: int64"
            ]
          },
          "metadata": {},
          "execution_count": 13
        }
      ]
    },
    {
      "cell_type": "code",
      "metadata": {
        "colab": {
          "base_uri": "https://localhost:8080/"
        },
        "id": "kUeMoIpts5wQ",
        "outputId": "6e1724a8-21ba-43c3-d92f-1dd956d7bf4a"
      },
      "source": [
        "df['item_name'].value_counts()"
      ],
      "execution_count": 14,
      "outputs": [
        {
          "output_type": "execute_result",
          "data": {
            "text/plain": [
              "Frozen fruits and vegetables                          1\n",
              "Food at elementary and secondary schools              1\n",
              "Owners' equivalent rent of residences                 1\n",
              "Care of invalids and elderly at home                  1\n",
              "Distilled spirits, excluding whiskey, at home         1\n",
              "                                                     ..\n",
              "Private transportation                                1\n",
              "Beer, ale, and other malt beverages away from home    1\n",
              "Fats and oils                                         1\n",
              "Apples                                                1\n",
              "Dried beans, peas, and lentils                        1\n",
              "Name: item_name, Length: 399, dtype: int64"
            ]
          },
          "metadata": {},
          "execution_count": 14
        }
      ]
    },
    {
      "cell_type": "code",
      "metadata": {
        "colab": {
          "base_uri": "https://localhost:8080/"
        },
        "id": "pGQUTzJ7s5yr",
        "outputId": "8f27fc1b-1bf2-485f-8d3c-68bb71bdf79a"
      },
      "source": [
        "df['display_level'].value_counts()"
      ],
      "execution_count": 17,
      "outputs": [
        {
          "output_type": "execute_result",
          "data": {
            "text/plain": [
              "3    113\n",
              "2     70\n",
              "1     66\n",
              "4     43\n",
              "6     37\n",
              "5     37\n",
              "7     18\n",
              "0     12\n",
              "8      3\n",
              "Name: display_level, dtype: int64"
            ]
          },
          "metadata": {},
          "execution_count": 17
        }
      ]
    },
    {
      "cell_type": "code",
      "metadata": {
        "colab": {
          "base_uri": "https://localhost:8080/"
        },
        "id": "Rdx7bz_0s50w",
        "outputId": "35016546-6064-40a3-e434-d59ae419a198"
      },
      "source": [
        "df['selectable'].value_counts()"
      ],
      "execution_count": 18,
      "outputs": [
        {
          "output_type": "execute_result",
          "data": {
            "text/plain": [
              "T    399\n",
              "Name: selectable, dtype: int64"
            ]
          },
          "metadata": {},
          "execution_count": 18
        }
      ]
    },
    {
      "cell_type": "code",
      "metadata": {
        "colab": {
          "base_uri": "https://localhost:8080/"
        },
        "id": "dh8cUcDss522",
        "outputId": "df26d125-bc6c-43e2-98ba-207580845538"
      },
      "source": [
        "df['sort_sequence'].value_counts()"
      ],
      "execution_count": 19,
      "outputs": [
        {
          "output_type": "execute_result",
          "data": {
            "text/plain": [
              "399    1\n",
              "125    1\n",
              "127    1\n",
              "128    1\n",
              "129    1\n",
              "      ..\n",
              "269    1\n",
              "270    1\n",
              "271    1\n",
              "272    1\n",
              "1      1\n",
              "Name: sort_sequence, Length: 399, dtype: int64"
            ]
          },
          "metadata": {},
          "execution_count": 19
        }
      ]
    },
    {
      "cell_type": "code",
      "metadata": {
        "colab": {
          "base_uri": "https://localhost:8080/",
          "height": 417
        },
        "id": "QmmigjFhsbfT",
        "outputId": "afdd679e-aef8-4e7f-cc30-dd723e1e1d52"
      },
      "source": [
        "#Finding The Null Values\n",
        "df.isnull()"
      ],
      "execution_count": 20,
      "outputs": [
        {
          "output_type": "execute_result",
          "data": {
            "text/html": [
              "<div>\n",
              "<style scoped>\n",
              "    .dataframe tbody tr th:only-of-type {\n",
              "        vertical-align: middle;\n",
              "    }\n",
              "\n",
              "    .dataframe tbody tr th {\n",
              "        vertical-align: top;\n",
              "    }\n",
              "\n",
              "    .dataframe thead th {\n",
              "        text-align: right;\n",
              "    }\n",
              "</style>\n",
              "<table border=\"1\" class=\"dataframe\">\n",
              "  <thead>\n",
              "    <tr style=\"text-align: right;\">\n",
              "      <th></th>\n",
              "      <th>item_code</th>\n",
              "      <th>item_name</th>\n",
              "      <th>display_level</th>\n",
              "      <th>selectable</th>\n",
              "      <th>sort_sequence</th>\n",
              "    </tr>\n",
              "  </thead>\n",
              "  <tbody>\n",
              "    <tr>\n",
              "      <th>0</th>\n",
              "      <td>False</td>\n",
              "      <td>False</td>\n",
              "      <td>False</td>\n",
              "      <td>False</td>\n",
              "      <td>False</td>\n",
              "    </tr>\n",
              "    <tr>\n",
              "      <th>1</th>\n",
              "      <td>False</td>\n",
              "      <td>False</td>\n",
              "      <td>False</td>\n",
              "      <td>False</td>\n",
              "      <td>False</td>\n",
              "    </tr>\n",
              "    <tr>\n",
              "      <th>2</th>\n",
              "      <td>False</td>\n",
              "      <td>False</td>\n",
              "      <td>False</td>\n",
              "      <td>False</td>\n",
              "      <td>False</td>\n",
              "    </tr>\n",
              "    <tr>\n",
              "      <th>3</th>\n",
              "      <td>False</td>\n",
              "      <td>False</td>\n",
              "      <td>False</td>\n",
              "      <td>False</td>\n",
              "      <td>False</td>\n",
              "    </tr>\n",
              "    <tr>\n",
              "      <th>4</th>\n",
              "      <td>False</td>\n",
              "      <td>False</td>\n",
              "      <td>False</td>\n",
              "      <td>False</td>\n",
              "      <td>False</td>\n",
              "    </tr>\n",
              "    <tr>\n",
              "      <th>...</th>\n",
              "      <td>...</td>\n",
              "      <td>...</td>\n",
              "      <td>...</td>\n",
              "      <td>...</td>\n",
              "      <td>...</td>\n",
              "    </tr>\n",
              "    <tr>\n",
              "      <th>394</th>\n",
              "      <td>False</td>\n",
              "      <td>False</td>\n",
              "      <td>False</td>\n",
              "      <td>False</td>\n",
              "      <td>False</td>\n",
              "    </tr>\n",
              "    <tr>\n",
              "      <th>395</th>\n",
              "      <td>False</td>\n",
              "      <td>False</td>\n",
              "      <td>False</td>\n",
              "      <td>False</td>\n",
              "      <td>False</td>\n",
              "    </tr>\n",
              "    <tr>\n",
              "      <th>396</th>\n",
              "      <td>False</td>\n",
              "      <td>False</td>\n",
              "      <td>False</td>\n",
              "      <td>False</td>\n",
              "      <td>False</td>\n",
              "    </tr>\n",
              "    <tr>\n",
              "      <th>397</th>\n",
              "      <td>False</td>\n",
              "      <td>False</td>\n",
              "      <td>False</td>\n",
              "      <td>False</td>\n",
              "      <td>False</td>\n",
              "    </tr>\n",
              "    <tr>\n",
              "      <th>398</th>\n",
              "      <td>False</td>\n",
              "      <td>False</td>\n",
              "      <td>False</td>\n",
              "      <td>False</td>\n",
              "      <td>False</td>\n",
              "    </tr>\n",
              "  </tbody>\n",
              "</table>\n",
              "<p>399 rows × 5 columns</p>\n",
              "</div>"
            ],
            "text/plain": [
              "     item_code  item_name  display_level  selectable  sort_sequence\n",
              "0        False      False          False       False          False\n",
              "1        False      False          False       False          False\n",
              "2        False      False          False       False          False\n",
              "3        False      False          False       False          False\n",
              "4        False      False          False       False          False\n",
              "..         ...        ...            ...         ...            ...\n",
              "394      False      False          False       False          False\n",
              "395      False      False          False       False          False\n",
              "396      False      False          False       False          False\n",
              "397      False      False          False       False          False\n",
              "398      False      False          False       False          False\n",
              "\n",
              "[399 rows x 5 columns]"
            ]
          },
          "metadata": {},
          "execution_count": 20
        }
      ]
    },
    {
      "cell_type": "code",
      "metadata": {
        "colab": {
          "base_uri": "https://localhost:8080/"
        },
        "id": "dZ958YrDw9MQ",
        "outputId": "376ae572-8e84-4a4a-cb52-7b6ee199af7e"
      },
      "source": [
        "#Count Of null values\n",
        "df.isnull().sum()\n",
        "#So there is no null values"
      ],
      "execution_count": 21,
      "outputs": [
        {
          "output_type": "execute_result",
          "data": {
            "text/plain": [
              "item_code        0\n",
              "item_name        0\n",
              "display_level    0\n",
              "selectable       0\n",
              "sort_sequence    0\n",
              "dtype: int64"
            ]
          },
          "metadata": {},
          "execution_count": 21
        }
      ]
    },
    {
      "cell_type": "code",
      "metadata": {
        "colab": {
          "base_uri": "https://localhost:8080/",
          "height": 110
        },
        "id": "tu01y23lw9QA",
        "outputId": "c84e0d9e-026c-4dd0-b912-ede1fd8c8f50"
      },
      "source": [
        "df.corr()"
      ],
      "execution_count": 22,
      "outputs": [
        {
          "output_type": "execute_result",
          "data": {
            "text/html": [
              "<div>\n",
              "<style scoped>\n",
              "    .dataframe tbody tr th:only-of-type {\n",
              "        vertical-align: middle;\n",
              "    }\n",
              "\n",
              "    .dataframe tbody tr th {\n",
              "        vertical-align: top;\n",
              "    }\n",
              "\n",
              "    .dataframe thead th {\n",
              "        text-align: right;\n",
              "    }\n",
              "</style>\n",
              "<table border=\"1\" class=\"dataframe\">\n",
              "  <thead>\n",
              "    <tr style=\"text-align: right;\">\n",
              "      <th></th>\n",
              "      <th>display_level</th>\n",
              "      <th>sort_sequence</th>\n",
              "    </tr>\n",
              "  </thead>\n",
              "  <tbody>\n",
              "    <tr>\n",
              "      <th>display_level</th>\n",
              "      <td>1.00000</td>\n",
              "      <td>-0.70548</td>\n",
              "    </tr>\n",
              "    <tr>\n",
              "      <th>sort_sequence</th>\n",
              "      <td>-0.70548</td>\n",
              "      <td>1.00000</td>\n",
              "    </tr>\n",
              "  </tbody>\n",
              "</table>\n",
              "</div>"
            ],
            "text/plain": [
              "               display_level  sort_sequence\n",
              "display_level        1.00000       -0.70548\n",
              "sort_sequence       -0.70548        1.00000"
            ]
          },
          "metadata": {},
          "execution_count": 22
        }
      ]
    },
    {
      "cell_type": "code",
      "metadata": {
        "id": "9rSt1LFIw9U9"
      },
      "source": [
        "#Thank You!!!!!!!!!!!!!!"
      ],
      "execution_count": null,
      "outputs": []
    },
    {
      "cell_type": "code",
      "metadata": {
        "id": "Zgn0WZ8ew9YA"
      },
      "source": [
        ""
      ],
      "execution_count": null,
      "outputs": []
    },
    {
      "cell_type": "code",
      "metadata": {
        "id": "eraceLqtw9bA"
      },
      "source": [
        ""
      ],
      "execution_count": null,
      "outputs": []
    },
    {
      "cell_type": "code",
      "metadata": {
        "id": "9qGFbTTJw9eU"
      },
      "source": [
        ""
      ],
      "execution_count": null,
      "outputs": []
    },
    {
      "cell_type": "code",
      "metadata": {
        "id": "fqsw84-Ww9iO"
      },
      "source": [
        ""
      ],
      "execution_count": null,
      "outputs": []
    },
    {
      "cell_type": "code",
      "metadata": {
        "id": "EH7d3N0aw9l0"
      },
      "source": [
        ""
      ],
      "execution_count": null,
      "outputs": []
    },
    {
      "cell_type": "code",
      "metadata": {
        "id": "lF5vTeSOw9o9"
      },
      "source": [
        ""
      ],
      "execution_count": null,
      "outputs": []
    }
  ]
}